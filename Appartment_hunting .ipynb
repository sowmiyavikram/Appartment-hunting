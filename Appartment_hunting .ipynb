{
  "nbformat": 4,
  "nbformat_minor": 0,
  "metadata": {
    "colab": {
      "provenance": []
    },
    "kernelspec": {
      "name": "python3",
      "display_name": "Python 3"
    },
    "language_info": {
      "name": "python"
    }
  },
  "cells": [
    {
      "cell_type": "code",
      "execution_count": 1,
      "metadata": {
        "colab": {
          "base_uri": "https://localhost:8080/"
        },
        "id": "ULpA3lndLJ1P",
        "outputId": "45e71afe-7f92-45c7-8490-214bbb286857"
      },
      "outputs": [
        {
          "output_type": "stream",
          "name": "stdout",
          "text": [
            "There are 4 blocks matching your condition, This function is returning only one of them\n",
            "The farthest you have to walk is gym\n",
            "You have school near to your place\n",
            "The farthest you have to walk is store\n"
          ]
        },
        {
          "output_type": "execute_result",
          "data": {
            "text/plain": [
              "0"
            ]
          },
          "metadata": {},
          "execution_count": 1
        }
      ],
      "source": [
        "blocks = [\n",
        "{\n",
        "    \"gym\": False,\n",
        "    \"school\": True,\n",
        "    \"store\": False,\n",
        "},\n",
        "{\n",
        "    \"gym\": True,\n",
        "    \"school\": False,\n",
        "    \"store\": False,\n",
        "},\n",
        "{\n",
        "    \"gym\": True,\n",
        "    \"school\": True,\n",
        "    \"store\": False,\n",
        "},\n",
        "{\n",
        "    \"gym\": False,\n",
        "    \"school\": False,\n",
        "    \"store\": False,\n",
        "},\n",
        "{\n",
        "\"gym\": False,\n",
        "\"school\": True,\n",
        "\"store\": True,\n",
        "}\n",
        "]\n",
        "\n",
        "\n",
        "reqs = [\"gym\" , 'store' , 'school']\n",
        "\n",
        "\n",
        "def apartmentHunting(blocks, reqs):\n",
        "    elist = set({})\n",
        "    for i in range(len(blocks)):\n",
        "        for j in reqs:\n",
        "            if blocks[i][j] == True:\n",
        "                elist.add(i)\n",
        "    elist = list(elist)\n",
        "    print(f'There are {len(elist)} blocks matching your condition, This function is returning only one of them')\n",
        "    for i in blocks[elist[0]].items():\n",
        "        if i[1] == True:\n",
        "            print(f'You have {i[0]} near to your place')\n",
        "        else:\n",
        "            print(f'The farthest you have to walk is {i[0]}')\n",
        "    return elist[0]\n",
        "           \n",
        "       \n",
        "       \n",
        "apartmentHunting(blocks, reqs)"
      ]
    }
  ]
}